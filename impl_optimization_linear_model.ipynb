{
 "cells": [
  {
   "cell_type": "markdown",
   "id": "d209f09b-3c0e-4876-9ea9-25c535387870",
   "metadata": {},
   "source": [
    "# 線形モデルを題材として学習について学ぶ"
   ]
  },
  {
   "cell_type": "code",
   "execution_count": 12,
   "id": "fe390927-f8f8-4c46-bd4b-945b24e8527e",
   "metadata": {},
   "outputs": [],
   "source": [
    "import random\n",
    "import numpy as np\n",
    "import matplotlib.pyplot as plt"
   ]
  },
  {
   "cell_type": "code",
   "execution_count": 3,
   "id": "3fa78eb5-047b-4a08-9758-17f8851f0ead",
   "metadata": {},
   "outputs": [],
   "source": [
    "SEED = 0xcafe\n",
    "random.seed(SEED)\n",
    "np.random.seed(SEED)"
   ]
  },
  {
   "cell_type": "code",
   "execution_count": 35,
   "id": "ddd9daf7-cc07-4885-acb8-a18578c7dcc5",
   "metadata": {},
   "outputs": [],
   "source": [
    "def plot_option(ax, xlim, ylim, equal_aspect=True, grid=True):\n",
    "    ax.set_xlim(*xlim)\n",
    "    ax.set_ylim(*ylim)\n",
    "    if equal_aspect:\n",
    "        ax.set_aspect('equal')\n",
    "    if grid:\n",
    "        ax.grid()"
   ]
  },
  {
   "cell_type": "code",
   "execution_count": 36,
   "id": "a877cc98-ab64-4fc2-92e5-b2e744b4471d",
   "metadata": {},
   "outputs": [
    {
     "name": "stdout",
     "output_type": "stream",
     "text": [
      "[1. 2. 3.] [0.98897097 1.88925183 2.80069625]\n"
     ]
    },
    {
     "data": {
      "image/png": "[encoded data removed]",
      "text/plain": [
       "<Figure size 432x432 with 1 Axes>"
      ]
     },
     "metadata": {
      "needs_background": "light"
     },
     "output_type": "display_data"
    }
   ],
   "source": [
    "X = np.arange(1, 4).astype(float)\n",
    "Y = np.random.normal(X, 0.2)\n",
    "print(X, Y)\n",
    "\n",
    "fig, ax = plt.subplots(1, 1, figsize=(6, 6))\n",
    "ax.scatter(X, Y)\n",
    "plot_option(ax, (0, 4), (0, 4))\n",
    "plt.show()"
   ]
  },
  {
   "cell_type": "markdown",
   "id": "e5411780-3130-4aa4-ae9a-1842ff5c42cd",
   "metadata": {},
   "source": [
    "線形モデル $y = f(x; {\\bf{w}})$\n",
    "$$\n",
    "f(x;{\\bf{w}}) = w_0 + w_1 x\n",
    "$$\n",
    "として重み ${\\bf{w}} = [w_0, w_1]^\\top$ を求める．\n",
    "\n",
    "$x_0 = 1, x_1 = x$ として縦ベクトル ${\\bf{x}} = [x_0, x_1]^\\top$ を考えると\n",
    "$$\n",
    "\\begin{align}\n",
    "f({\\bf{x}}; {\\bf{w}})\n",
    "&= x_0 w_0 + x_1 w_1 \\\\\n",
    "&= [x_0, x_1]\n",
    "\\left[\\begin{array}{c}\n",
    "w_0 \\\\\n",
    "w_1\n",
    "\\end{array}\\right] \\\\\n",
    "&= {\\bf{x}}^\\top {\\bf{w}}\n",
    "\\end{align}\n",
    "$$\n",
    "と表現できる．"
   ]
  },
  {
   "cell_type": "code",
   "execution_count": 74,
   "id": "bc8fdb64-8418-4417-b026-3b835d0f4fae",
   "metadata": {},
   "outputs": [],
   "source": [
    "def linear_model(w):\n",
    "    \"\"\"重みが `w` の線形モデルの作成\"\"\"\n",
    "    return lambda x: w[0] + w[1] * x"
   ]
  },
  {
   "cell_type": "markdown",
   "id": "6b037e25-255a-4af9-b3d3-2b16b39f9d95",
   "metadata": {},
   "source": [
    "# 単回帰分析\n",
    "\n",
    "$$\n",
    "\\begin{align}\n",
    "w_1 &= \\frac{Cov[X, Y]}{Var[X]} \\\\\n",
    "w_0 &= \\mu_y - w_1 \\mu_x\n",
    "\\end{align}\n",
    "$$\n",
    "\n",
    "NOTE: 何かおかしい気がする．"
   ]
  },
  {
   "cell_type": "code",
   "execution_count": 78,
   "id": "c9c0fd1d-30d1-4c73-a797-29429703976a",
   "metadata": {},
   "outputs": [
    {
     "data": {
      "text/plain": [
       "(array([[1.        , 0.90586264],\n",
       "        [0.90586264, 0.82059751]]),\n",
       " 0.6666666666666666,\n",
       " 0.547065003343877)"
      ]
     },
     "execution_count": 78,
     "metadata": {},
     "output_type": "execute_result"
    }
   ],
   "source": [
    "np.cov(X, Y), np.var(X), np.var(Y)"
   ]
  },
  {
   "cell_type": "code",
   "execution_count": 79,
   "id": "0e9af7c5-31d9-4944-a241-fbb69120b1da",
   "metadata": {},
   "outputs": [
    {
     "data": {
      "text/plain": [
       "array([-0.8246149 ,  1.35879396])"
      ]
     },
     "execution_count": 79,
     "metadata": {},
     "output_type": "execute_result"
    }
   ],
   "source": [
    "W = np.zeros(2)\n",
    "W[1] = np.cov(X, Y)[0, 1] / np.var(X)\n",
    "W[0] = np.mean(Y) - W[1] * np.mean(X)\n",
    "W"
   ]
  },
  {
   "cell_type": "code",
   "execution_count": 80,
   "id": "3cb49e4e-a40b-41bc-8065-cde0ddce94c5",
   "metadata": {},
   "outputs": [
    {
     "data": {
      "image/png": "[encoded data removed]",
      "text/plain": [
       "<Figure size 432x432 with 1 Axes>"
      ]
     },
     "metadata": {
      "needs_background": "light"
     },
     "output_type": "display_data"
    }
   ],
   "source": [
    "x = np.arange(5)\n",
    "fig, ax = plt.subplots(1, 1, figsize=(6, 6))\n",
    "ax.scatter(X, Y)\n",
    "ax.plot(x, linear_model(W)(x))\n",
    "plot_option(ax, (0, 4), (0, 4))\n",
    "plt.show()"
   ]
  },
  {
   "cell_type": "markdown",
   "id": "4aee68ab-a597-4bab-afba-5c8f783072f7",
   "metadata": {},
   "source": [
    "# 線形代数的に求める\n",
    "\n",
    "損失関数は二乗誤差 $l(y, \\hat{y}) = (y - \\hat{y})^2$ を用いる．\n",
    "損失関数 $L({\\bf{w}})$ は\n",
    "$$\n",
    "\\begin{align}\n",
    "L({\\bf{w}}) &= \\sum_{i=1}^N l(y_i, f({\\bf{x}}_i; {\\bf{w}})) \\\\\n",
    "&= \\sum_{i=1}^N (y_i - f({\\bf{x}}_i; {\\bf{w}}))^2\n",
    "\\end{align}\n",
    "$$\n",
    "上を ${\\bf{w}}$ で偏微分し，0 となるときの ${\\bf{w}}$ を求める．\n",
    "$$\n",
    "{\\bf{w}} = (X^\\top X)^{-1} X^\\top Y\n",
    "$$"
   ]
  },
  {
   "cell_type": "code",
   "execution_count": 83,
   "id": "4d941b0d-5648-4264-801f-9ac6a9a292b1",
   "metadata": {},
   "outputs": [
    {
     "data": {
      "text/plain": [
       "array([[0.08124774],\n",
       "       [0.90586264]])"
      ]
     },
     "execution_count": 83,
     "metadata": {},
     "output_type": "execute_result"
    }
   ],
   "source": [
    "x, y = X.reshape(-1, 1), Y.reshape(-1, 1)\n",
    "x = np.concatenate([np.ones_like(x), x], axis=1)\n",
    "W = np.linalg.inv(x.T @ x) @ x.T @ y\n",
    "W"
   ]
  },
  {
   "cell_type": "code",
   "execution_count": 84,
   "id": "44d879be-c120-4441-b4fc-fa1ca8cc9d8a",
   "metadata": {},
   "outputs": [
    {
     "data": {
      "image/png": "[encoded data removed]",
      "text/plain": [
       "<Figure size 432x432 with 1 Axes>"
      ]
     },
     "metadata": {
      "needs_background": "light"
     },
     "output_type": "display_data"
    }
   ],
   "source": [
    "x = np.arange(5)\n",
    "fig, ax = plt.subplots(1, 1, figsize=(6, 6))\n",
    "ax.scatter(X, Y)\n",
    "ax.plot(x, linear_model(W)(x))\n",
    "plot_option(ax, (0, 4), (0, 4))\n",
    "plt.show()"
   ]
  }
 ],
 "metadata": {
  "kernelspec": {
   "display_name": "tolearn:Python",
   "language": "python",
   "name": "conda-env-tolearn-py"
  },
  "language_info": {
   "codemirror_mode": {
    "name": "ipython",
    "version": 3
   },
   "file_extension": ".py",
   "mimetype": "text/x-python",
   "name": "python",
   "nbconvert_exporter": "python",
   "pygments_lexer": "ipython3",
   "version": "3.9.12"
  }
 },
 "nbformat": 4,
 "nbformat_minor": 5
}
