{
 "cells": [
  {
   "cell_type": "markdown",
   "id": "d209f09b-3c0e-4876-9ea9-25c535387870",
   "metadata": {},
   "source": [
    "# 線形モデルを題材として学習について学ぶ"
   ]
  },
  {
   "cell_type": "code",
   "execution_count": 1,
   "id": "fe390927-f8f8-4c46-bd4b-945b24e8527e",
   "metadata": {},
   "outputs": [],
   "source": [
    "import random\n",
    "import numpy as np\n",
    "import matplotlib.pyplot as plt"
   ]
  },
  {
   "cell_type": "code",
   "execution_count": 2,
   "id": "3fa78eb5-047b-4a08-9758-17f8851f0ead",
   "metadata": {},
   "outputs": [],
   "source": [
    "SEED = 0xcafe\n",
    "random.seed(SEED)\n",
    "np.random.seed(SEED)"
   ]
  },
  {
   "cell_type": "code",
   "execution_count": 3,
   "id": "ddd9daf7-cc07-4885-acb8-a18578c7dcc5",
   "metadata": {},
   "outputs": [],
   "source": [
    "def plot_option(ax, xlim, ylim, equal_aspect=True, grid=True):\n",
    "    ax.set_xlim(*xlim)\n",
    "    ax.set_ylim(*ylim)\n",
    "    if equal_aspect:\n",
    "        ax.set_aspect('equal')\n",
    "    if grid:\n",
    "        ax.grid()"
   ]
  },
  {
   "cell_type": "code",
   "execution_count": 4,
   "id": "a877cc98-ab64-4fc2-92e5-b2e744b4471d",
   "metadata": {},
   "outputs": [
    {
     "name": "stdout",
     "output_type": "stream",
     "text": [
      "[1. 2. 3.] [1.1512539  1.84935124 2.94235408]\n"
     ]
    },
    {
     "data": {
      "image/png": "[encoded data removed]",
      "text/plain": [
       "<Figure size 432x432 with 1 Axes>"
      ]
     },
     "metadata": {
      "needs_background": "light"
     },
     "output_type": "display_data"
    }
   ],
   "source": [
    "X = np.arange(1, 4).astype(float)\n",
    "Y = np.random.normal(X, 0.2)\n",
    "print(X, Y)\n",
    "\n",
    "fig, ax = plt.subplots(1, 1, figsize=(6, 6))\n",
    "ax.scatter(X, Y)\n",
    "plot_option(ax, (0, 4), (0, 4))\n",
    "plt.show()"
   ]
  },
  {
   "cell_type": "markdown",
   "id": "e5411780-3130-4aa4-ae9a-1842ff5c42cd",
   "metadata": {},
   "source": [
    "線形モデル $y = f(x; {\\bf{w}})$\n",
    "$$\n",
    "f(x;{\\bf{w}}) = w_0 + w_1 x\n",
    "$$\n",
    "として重み ${\\bf{w}} = [w_0, w_1]^\\top$ を求める．\n",
    "\n",
    "$x_0 = 1, x_1 = x$ として縦ベクトル ${\\bf{x}} = [x_0, x_1]^\\top$ を考えると\n",
    "$$\n",
    "\\begin{align}\n",
    "f({\\bf{x}}; {\\bf{w}})\n",
    "&= x_0 w_0 + x_1 w_1 \\\\\n",
    "&= [x_0, x_1]\n",
    "\\left[\\begin{array}{c}\n",
    "w_0 \\\\\n",
    "w_1\n",
    "\\end{array}\\right] \\\\\n",
    "&= {\\bf{x}}^\\top {\\bf{w}}\n",
    "\\end{align}\n",
    "$$\n",
    "と表現できる．"
   ]
  },
  {
   "cell_type": "code",
   "execution_count": 5,
   "id": "bc8fdb64-8418-4417-b026-3b835d0f4fae",
   "metadata": {},
   "outputs": [],
   "source": [
    "def linear_model(w):\n",
    "    \"\"\"重みが `w` の線形モデルの作成\"\"\"\n",
    "    return lambda x: w[0] + w[1] * x"
   ]
  },
  {
   "cell_type": "markdown",
   "id": "6b037e25-255a-4af9-b3d3-2b16b39f9d95",
   "metadata": {},
   "source": [
    "# 単回帰分析\n",
    "\n",
    "$$\n",
    "\\begin{align}\n",
    "w_1 &= \\frac{Cov[X, Y]}{Var[X]} \\\\\n",
    "w_0 &= \\mu_y - w_1 \\mu_x\n",
    "\\end{align}\n",
    "$$\n"
   ]
  },
  {
   "cell_type": "code",
   "execution_count": 32,
   "id": "c9c0fd1d-30d1-4c73-a797-29429703976a",
   "metadata": {},
   "outputs": [
    {
     "data": {
      "text/plain": [
       "(array([[0.66666667, 0.5970334 ],\n",
       "        [0.5970334 , 0.54333722]]),\n",
       " 0.6666666666666666,\n",
       " 0.5433372214465426)"
      ]
     },
     "execution_count": 32,
     "metadata": {},
     "output_type": "execute_result"
    }
   ],
   "source": [
    "np.cov(X, Y, bias=True), np.var(X), np.var(Y)"
   ]
  },
  {
   "cell_type": "code",
   "execution_count": 25,
   "id": "21fdc899-aa2f-415f-9a3e-b23eb29dcdd7",
   "metadata": {},
   "outputs": [
    {
     "data": {
      "text/plain": [
       "0.5970333956152705"
      ]
     },
     "execution_count": 25,
     "metadata": {},
     "output_type": "execute_result"
    }
   ],
   "source": [
    "np.mean((X - np.mean(X)) * (Y - np.mean(Y)))"
   ]
  },
  {
   "cell_type": "code",
   "execution_count": 29,
   "id": "0e9af7c5-31d9-4944-a241-fbb69120b1da",
   "metadata": {},
   "outputs": [
    {
     "data": {
      "text/plain": [
       "array([0.18988622, 0.89555009])"
      ]
     },
     "execution_count": 29,
     "metadata": {},
     "output_type": "execute_result"
    }
   ],
   "source": [
    "W = np.zeros(2)\n",
    "W[1] = np.mean((X - np.mean(X)) * (Y - np.mean(Y))) / np.var(X)\n",
    "W[0] = np.mean(Y) - W[1] * np.mean(X)\n",
    "W"
   ]
  },
  {
   "cell_type": "code",
   "execution_count": 30,
   "id": "3cb49e4e-a40b-41bc-8065-cde0ddce94c5",
   "metadata": {},
   "outputs": [
    {
     "data": {
      "image/png": "[encoded data removed]",
      "text/plain": [
       "<Figure size 432x432 with 1 Axes>"
      ]
     },
     "metadata": {
      "needs_background": "light"
     },
     "output_type": "display_data"
    }
   ],
   "source": [
    "x = np.arange(5)\n",
    "fig, ax = plt.subplots(1, 1, figsize=(6, 6))\n",
    "ax.scatter(X, Y)\n",
    "ax.plot(x, linear_model(W)(x))\n",
    "plot_option(ax, (0, 4), (0, 4))\n",
    "plt.show()"
   ]
  },
  {
   "cell_type": "markdown",
   "id": "4aee68ab-a597-4bab-afba-5c8f783072f7",
   "metadata": {
    "tags": []
   },
   "source": [
    "# 線形モデルの重みを求める\n",
    "\n",
    "## 厳密に求める\n",
    "\n",
    "$i$ 番目のデータの予測値を\n",
    "$$\n",
    "\\hat{y}_i = {\\bf x}_i^\\top {\\bf w}\n",
    "$$\n",
    "と置く．すべての予測値を行列で表すと\n",
    "$$\n",
    "\\left[\\begin{array}{c}\\hat{y}_1 \\\\ \\hat{y}_2 \\\\ \\vdots \\\\ \\hat{y}_N\\end{array}\\right] = \n",
    "\\left[\\begin{array}{c}\n",
    "{\\bf x}_1^\\mathrm{T} \\\\ {\\bf x}_2^\\mathrm{T} \\\\ \\vdots \\\\ {\\bf x}_N^\\mathrm{T}\n",
    "\\end{array}\\right] {\\bf w}\n",
    "$$\n",
    "を表せられて，これを\n",
    "$$\n",
    "\\hat{{\\bf y}} = X{\\bf w}\n",
    "$$\n",
    "と表す．\n",
    "\n",
    "二乗誤差 $l(y, \\hat{y}) = (y - \\hat{y})^2$ を用いて，\n",
    "損失関数 $L({\\bf{w}})$ は\n",
    "$$\n",
    "\\begin{align}\n",
    "L({\\bf{w}}) &= \\sum_{i=1}^N l(y_i, \\hat{y}_i) \\\\\n",
    "&= \\sum_{i=1}^N (y_i - \\hat{y}_i)^2 \\\\\n",
    "&= \\left[\\begin{array}{cccc}y_1-\\hat{y}_1 & y_2-\\hat{y}_2 & \\dots & y_n-\\hat{y}_n\\end{array}\\right]\n",
    "\\left[\\begin{array}{c}\n",
    "y_1 - \\hat{y}_1 \\\\\n",
    "y_2 - \\hat{y}_2 \\\\\n",
    "\\vdots \\\\\n",
    "y_n - \\hat{y}_n\n",
    "\\end{array}\\right] \\\\\n",
    "&= ({\\bf y} - \\hat{{\\bf y}})^\\top({\\bf y} - \\hat{{\\bf y}}) \\\\\n",
    "&= ({\\bf y} - X{\\bf w})^\\top({\\bf y} - X{\\bf w}) \\\\\n",
    "&= ({\\bf y}^\\top - {\\bf w}^\\top X^\\top)({\\bf y} - X{\\bf w}) \\\\\n",
    "&= {\\bf y}^\\top {\\bf y} - {\\bf w}^\\top X^\\top {\\bf y} - {\\bf y}^\\top X{\\bf w} + {\\bf w}^\\top X^\\top X{\\bf w} \\\\\n",
    "&= {\\bf y}^\\top {\\bf y} - 2{\\bf y}^\\top X{\\bf w} + {\\bf w}^\\top X^\\top X{\\bf w}\n",
    "\\end{align}\n",
    "$$\n",
    "${\\bf w}^\\top X^\\top {\\bf y}$ と ${\\bf y}^\\top X{\\bf w}$ はスカラー値．\n",
    "これを ${\\bf{w}}$ で偏微分して\n",
    "$$\n",
    "\\frac{\\partial L({\\bf w})}{\\partial {\\bf w}}\n",
    "= 2X^\\top X{\\bf w} - 2X^\\top{\\bf y}\n",
    "$$\n",
    "$\\nabla_{\\bf x} {\\bf b}^\\top{\\bf x} = {\\bf b}$，$\\nabla_{\\bf x} {\\bf x}^\\top A{\\bf x} = 2A{\\bf x}$ となることを利用．詳しくはパターン認識の講義を参照．\n",
    "$\\frac{\\partial L({\\bf w})}{\\partial {\\bf w}}=0$ となるときの ${\\bf{w}}$ を求める．\n",
    "$$\n",
    "{\\bf{w}} = (X^\\top X)^{-1} X^\\top {\\bf y}\n",
    "$$\n",
    "\n",
    "ただし，$X^\\top X$ が正方行列であり，逆行列が存在する必要がある．\n",
    "$X^\\top X$ の逆行列が存在しない場合は多重共線性問題となる（？）"
   ]
  },
  {
   "cell_type": "code",
   "execution_count": 9,
   "id": "4d941b0d-5648-4264-801f-9ac6a9a292b1",
   "metadata": {},
   "outputs": [],
   "source": [
    "x, y = X.reshape(-1, 1), Y.reshape(-1, 1)\n",
    "x = np.concatenate([np.ones_like(x), x], axis=1)"
   ]
  },
  {
   "cell_type": "code",
   "execution_count": 10,
   "id": "3fa66d4a-1ca1-4812-a0c9-0812de7126d4",
   "metadata": {},
   "outputs": [
    {
     "data": {
      "text/plain": [
       "array([[0.18988622],\n",
       "       [0.89555009]])"
      ]
     },
     "execution_count": 10,
     "metadata": {},
     "output_type": "execute_result"
    }
   ],
   "source": [
    "W = np.linalg.inv(x.T @ x) @ x.T @ y\n",
    "W"
   ]
  },
  {
   "cell_type": "code",
   "execution_count": 11,
   "id": "44d879be-c120-4441-b4fc-fa1ca8cc9d8a",
   "metadata": {},
   "outputs": [
    {
     "data": {
      "image/png": "[encoded data removed]",
      "text/plain": [
       "<Figure size 432x432 with 1 Axes>"
      ]
     },
     "metadata": {
      "needs_background": "light"
     },
     "output_type": "display_data"
    }
   ],
   "source": [
    "x_range = np.arange(5)\n",
    "fig, ax = plt.subplots(1, 1, figsize=(6, 6))\n",
    "ax.scatter(X, Y)\n",
    "ax.plot(x_range, linear_model(W)(x_range))\n",
    "plot_option(ax, (0, 4), (0, 4))\n",
    "plt.show()"
   ]
  },
  {
   "cell_type": "markdown",
   "id": "004ed800-fece-4d02-aeae-2d601a226f5c",
   "metadata": {},
   "source": [
    "## （バッチ）勾配降下法\n",
    "\n",
    "パラメータ $\\theta$ に対するコスト関数 $J(\\theta)$ とする．\n",
    "学習率を $\\alpha$ として，$\\tau$ ステップから次のステップへの更新は下の通り．\n",
    "\n",
    "$$\n",
    "\\theta^{\\tau+1} = \\theta^{\\tau} - \\alpha \\nabla J(\\theta^{\\tau})\n",
    "$$\n",
    "\n",
    "二乗誤差 $l(y, \\hat{y}) = (y - \\hat{y})^2$ を用いて，\n",
    "損失関数 $L({\\bf w})$ は\n",
    "$$\n",
    "\\begin{align}\n",
    "L({\\bf{w}})\n",
    "&= \\sum_{i=1}^N l(y_i, \\hat{y}_i) \\\\\n",
    "&= \\sum_{i=1}^N (y_i - (w_0 + w_1 x_i))^2\n",
    "\\end{align}\n",
    "$$"
   ]
  },
  {
   "cell_type": "code",
   "execution_count": 12,
   "id": "577e5271-afef-4576-b4f4-75baa0b716cd",
   "metadata": {},
   "outputs": [],
   "source": [
    "def L(w_0, w_1):\n",
    "    return np.sum((Y - (w_0 + w_1 * X))**2)"
   ]
  },
  {
   "cell_type": "markdown",
   "id": "ece43712-246f-474c-82d1-b08563f8afee",
   "metadata": {},
   "source": [
    "とりあえず\n",
    "$$\n",
    "f'(x) = \\lim_{h\\rightarrow 0} \\frac{f(x + h) - f(x)}{h}\n",
    "$$\n",
    "を実装．"
   ]
  },
  {
   "cell_type": "code",
   "execution_count": 13,
   "id": "5a1aa46d-5a30-4d36-aef7-1e69d469f7a8",
   "metadata": {},
   "outputs": [],
   "source": [
    "def gradient(f):\n",
    "    h = 1e-8\n",
    "    return lambda x: (f(x + h) - f(x)) / h"
   ]
  },
  {
   "cell_type": "markdown",
   "id": "8c99e6d2-13f8-40b9-a988-7754e221589b",
   "metadata": {},
   "source": [
    "次に\n",
    "$$\n",
    "\\begin{align}\n",
    "\\nabla f = \\left[\\begin{array}{c}\n",
    "\\frac{\\partial f}{\\partial x} \\\\\n",
    "\\frac{\\partial f}{\\partial y}\n",
    "\\end{array}\\right]\n",
    "\\end{align}\n",
    "$$\n",
    "を実装．"
   ]
  },
  {
   "cell_type": "code",
   "execution_count": 14,
   "id": "2afcb776-943f-4f2b-85d9-56c5c3dcba0f",
   "metadata": {},
   "outputs": [],
   "source": [
    "def nabla_2d(f):\n",
    "    def _ret(x, y):\n",
    "        dx = gradient(lambda x: f(x, y))\n",
    "        dy = gradient(lambda y: f(x, y))\n",
    "        return dx(x), dy(y)\n",
    "    return _ret"
   ]
  },
  {
   "cell_type": "markdown",
   "id": "61c228a2-eb9e-4659-b69e-26ce8cdf0595",
   "metadata": {},
   "source": [
    "適当に重みの初期値などを設定してから重みを\n",
    "$$\n",
    "% {\\bf w} := {\\bf w} - \\alpha \\frac{\\partial L({\\bf w})}{\\partial {\\bf w}}\n",
    "{\\bf w} := {\\bf w} - \\alpha \\nabla L({\\bf w})\n",
    "$$\n",
    "で更新する．"
   ]
  },
  {
   "cell_type": "code",
   "execution_count": 15,
   "id": "b759a326-c4cb-4139-a357-8dc57c739cac",
   "metadata": {},
   "outputs": [
    {
     "data": {
      "text/plain": [
       "array([[0.19035744],\n",
       "       [0.8953428 ]])"
      ]
     },
     "execution_count": 15,
     "metadata": {},
     "output_type": "execute_result"
    }
   ],
   "source": [
    "# 初期値\n",
    "w_0, w_1 = 1., 1.\n",
    "α = 0.001\n",
    "# 重みを反復により求める\n",
    "nabla_L = nabla_2d(L)\n",
    "for _ in range(10000):\n",
    "    dw = nabla_L(w_0, w_1)\n",
    "    w_0 = w_0 - α * dw[0]\n",
    "    w_1 = w_1 - α * dw[1]\n",
    "# 結果\n",
    "W = np.array([w_0, w_1]).reshape(-1, 1)\n",
    "W"
   ]
  },
  {
   "cell_type": "code",
   "execution_count": 16,
   "id": "72de7c5a-97ff-4852-86c4-c762ed765d17",
   "metadata": {},
   "outputs": [
    {
     "data": {
      "image/png": "[encoded data removed]",
      "text/plain": [
       "<Figure size 432x432 with 1 Axes>"
      ]
     },
     "metadata": {
      "needs_background": "light"
     },
     "output_type": "display_data"
    }
   ],
   "source": [
    "x_range = np.arange(5)\n",
    "fig, ax = plt.subplots(1, 1, figsize=(6, 6))\n",
    "ax.scatter(X, Y)\n",
    "ax.plot(x_range, linear_model(W)(x_range))\n",
    "plot_option(ax, (0, 4), (0, 4))\n",
    "plt.show()"
   ]
  },
  {
   "cell_type": "markdown",
   "id": "22db80fa-3c24-474d-9be8-337c5415d958",
   "metadata": {},
   "source": [
    "## オンライン勾配降下法\n",
    "\n",
    "確率的勾配降下法"
   ]
  },
  {
   "cell_type": "code",
   "execution_count": 17,
   "id": "0073262e-9168-4119-95dd-99ee7ff7035f",
   "metadata": {},
   "outputs": [],
   "source": [
    "# X, Y を引数で受け取れるようにする\n",
    "def J(X, Y):\n",
    "    return lambda w0, w1: np.sum((Y - (w0 + w1 * X))**2)"
   ]
  },
  {
   "cell_type": "code",
   "execution_count": 20,
   "id": "eed76a01-c2e8-4555-b061-d23b0f765f70",
   "metadata": {},
   "outputs": [
    {
     "data": {
      "text/plain": [
       "array([[0.18991742],\n",
       "       [0.89838797]])"
      ]
     },
     "execution_count": 20,
     "metadata": {},
     "output_type": "execute_result"
    }
   ],
   "source": [
    "# 初期値\n",
    "w_0, w_1 = 1., 1.\n",
    "α = 0.001\n",
    "# 重みを反復により求める\n",
    "for _ in range(100000):\n",
    "    i = random.sample(list(range(len(X))), 1)  # 学習データから一つを選択\n",
    "    nabla_J = nabla_2d(J(X[i], Y[i]))\n",
    "    dw = nabla_J(w_0, w_1)\n",
    "    w_0 = w_0 - α * dw[0]\n",
    "    w_1 = w_1 - α * dw[1]\n",
    "# 結果\n",
    "W = np.array([w_0, w_1]).reshape(-1, 1)\n",
    "W"
   ]
  },
  {
   "cell_type": "code",
   "execution_count": 21,
   "id": "b6c1c810-161b-4241-b771-e8394de92ac7",
   "metadata": {},
   "outputs": [
    {
     "data": {
      "image/png": "[encoded data removed]",
      "text/plain": [
       "<Figure size 432x432 with 1 Axes>"
      ]
     },
     "metadata": {
      "needs_background": "light"
     },
     "output_type": "display_data"
    }
   ],
   "source": [
    "x_range = np.arange(5)\n",
    "fig, ax = plt.subplots(1, 1, figsize=(6, 6))\n",
    "ax.scatter(X, Y)\n",
    "ax.plot(x_range, linear_model(W)(x_range))\n",
    "plot_option(ax, (0, 4), (0, 4))\n",
    "plt.show()"
   ]
  },
  {
   "cell_type": "markdown",
   "id": "de8caab4-4c5d-4718-87ad-45a1706ad68f",
   "metadata": {},
   "source": [
    "## ミニバッチ勾配降下法"
   ]
  },
  {
   "cell_type": "code",
   "execution_count": 22,
   "id": "5dab67ae-5391-474d-b1f9-24e58d359201",
   "metadata": {},
   "outputs": [
    {
     "data": {
      "text/plain": [
       "array([[0.19576055],\n",
       "       [0.89198794]])"
      ]
     },
     "execution_count": 22,
     "metadata": {},
     "output_type": "execute_result"
    }
   ],
   "source": [
    "# 初期値\n",
    "w_0, w_1 = 1., 1.\n",
    "α = 0.001\n",
    "batch_size = 2\n",
    "# 重みを反復により求める\n",
    "for _ in range(10000):\n",
    "    i = random.sample(list(range(len(X))), batch_size)  # 学習データから複数選択\n",
    "    nabla_J = nabla_2d(J(X[i], Y[i]))\n",
    "    dw = nabla_J(w_0, w_1)\n",
    "    w_0 = w_0 - α * dw[0]\n",
    "    w_1 = w_1 - α * dw[1]\n",
    "# 結果\n",
    "W = np.array([w_0, w_1]).reshape(-1, 1)\n",
    "W"
   ]
  },
  {
   "cell_type": "code",
   "execution_count": 23,
   "id": "86c42a4c-4d54-4f2f-9de1-e4cab109687d",
   "metadata": {},
   "outputs": [
    {
     "data": {
      "image/png": "[encoded data removed]",
      "text/plain": [
       "<Figure size 432x432 with 1 Axes>"
      ]
     },
     "metadata": {
      "needs_background": "light"
     },
     "output_type": "display_data"
    }
   ],
   "source": [
    "x_range = np.arange(5)\n",
    "fig, ax = plt.subplots(1, 1, figsize=(6, 6))\n",
    "ax.scatter(X, Y)\n",
    "ax.plot(x_range, linear_model(W)(x_range))\n",
    "plot_option(ax, (0, 4), (0, 4))\n",
    "plt.show()"
   ]
  },
  {
   "cell_type": "markdown",
   "id": "0ced88c1-4dbf-42c8-893b-4a53c3849b6f",
   "metadata": {},
   "source": [
    "---\n",
    "# 最尤推定\n",
    "\n",
    "$$\n",
    "\\theta^* = \\mathrm{arg}\\max_{\\theta} p(X|\\theta)\n",
    "$$\n",
    "\n",
    "誤差が平均 $0$，分散 $\\sigma$ の正規分布に従うとする．\n",
    "このときの尤度関数は $l(\\theta) = \\prod_{i=0}^N p(y_i|\\theta_i)$ より，\n",
    "負の対数尤度 $L(\\theta) = -\\log l(\\theta)$ を考える．\n",
    "\n",
    "$$\n",
    "\\begin{align}\n",
    "L(\\theta) &= -\\log l(\\theta) \\\\\n",
    "&= -\\log\\prod_{i=0}^N p(y_i|\\theta_i) \\\\\n",
    "&= -\\log\\prod_{i=0}^N \\frac{1}{\\sqrt{2\\pi\\sigma^2}}\\exp\\left({-\\frac{(y_i-f({\\bf{x}};{\\bf{w}}))^2}{2\\sigma^2}}\\right)\n",
    "& (\\because \\theta_i = f({\\bf{x}};{\\bf{w}}))\n",
    "\\end{align}\n",
    "$$"
   ]
  },
  {
   "cell_type": "markdown",
   "id": "18f22a52-f329-4a72-99a9-364e7a11fd68",
   "metadata": {},
   "source": [
    "# MAP 推定\n",
    "\n",
    "$p(\\theta|X) = \\frac{p(X|\\theta)p(\\theta)}{p(X)}$ より\n",
    "$$\n",
    "\\begin{align}\n",
    "\\theta^*\n",
    "&= \\mathrm{arg}\\max_{\\theta} p(\\theta|X) \\\\\n",
    "&= \\mathrm{arg}\\max_{\\theta} \\frac{p(X|\\theta)p(\\theta)}{p(X)}\n",
    "\\end{align}\n",
    "$$"
   ]
  },
  {
   "cell_type": "markdown",
   "id": "505a63e3-d1d9-4851-9921-d81f6412c296",
   "metadata": {},
   "source": [
    "# ベイズ推定\n",
    "\n",
    "$$\n",
    "p(\\theta|X)\n",
    "$$"
   ]
  },
  {
   "cell_type": "markdown",
   "id": "f4717bd0-73d4-496a-bc36-0f8919b94b18",
   "metadata": {},
   "source": [
    "---\n",
    "**参考**\n",
    "- 講義資料\n",
    "- ディープラーニングを支える技術 ——「正解」を導くメカニズム[技術基礎] (Tech × Books plus) \n",
    "- https://qiita.com/kenmatsu4/items/d282054ddedbd68fecb0\n",
    "- https://mathwords.net/sgd"
   ]
  }
 ],
 "metadata": {
  "kernelspec": {
   "display_name": "tolearn:Python",
   "language": "python",
   "name": "conda-env-tolearn-py"
  },
  "language_info": {
   "codemirror_mode": {
    "name": "ipython",
    "version": 3
   },
   "file_extension": ".py",
   "mimetype": "text/x-python",
   "name": "python",
   "nbconvert_exporter": "python",
   "pygments_lexer": "ipython3",
   "version": "3.9.12"
  }
 },
 "nbformat": 4,
 "nbformat_minor": 5
}
